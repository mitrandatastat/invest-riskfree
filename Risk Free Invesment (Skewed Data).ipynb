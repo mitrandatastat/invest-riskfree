{
 "cells": [
  {
   "cell_type": "markdown",
   "metadata": {},
   "source": [
    "### Invoke Packages"
   ]
  },
  {
   "cell_type": "code",
   "execution_count": 148,
   "metadata": {},
   "outputs": [],
   "source": [
    "import numpy as np\n",
    "import pandas as pd\n",
    "import seaborn as sns\n",
    "import matplotlib.pyplot as plt\n",
    "from sklearn.model_selection import GridSearchCV\n",
    "from mlxtend.plotting import plot_confusion_matrix\n",
    "from sklearn.linear_model import LogisticRegression\n",
    "from sklearn.model_selection import cross_val_predict\n",
    "from sklearn.metrics import confusion_matrix, mean_squared_error, classification_report\n",
    "%matplotlib inline"
   ]
  },
  {
   "cell_type": "markdown",
   "metadata": {},
   "source": [
    "### Reading dataframe and clearning the noise"
   ]
  },
  {
   "cell_type": "code",
   "execution_count": 149,
   "metadata": {
    "scrolled": true
   },
   "outputs": [
    {
     "name": "stdout",
     "output_type": "stream",
     "text": [
      "<class 'pandas.core.frame.DataFrame'>\n",
      "Int64Index: 42538 entries, 0 to 42537\n",
      "Data columns (total 52 columns):\n",
      "id                            42538 non-null object\n",
      "member_id                     42535 non-null float64\n",
      "loan_amnt                     42535 non-null float64\n",
      "funded_amnt                   42535 non-null float64\n",
      "funded_amnt_inv               42535 non-null float64\n",
      "term                          42535 non-null object\n",
      "int_rate                      42535 non-null object\n",
      "installment                   42535 non-null float64\n",
      "grade                         42535 non-null object\n",
      "sub_grade                     42535 non-null object\n",
      "emp_title                     39909 non-null object\n",
      "emp_length                    41423 non-null object\n",
      "home_ownership                42535 non-null object\n",
      "annual_inc                    42531 non-null float64\n",
      "verification_status           42535 non-null object\n",
      "issue_d                       42535 non-null object\n",
      "loan_status                   42535 non-null object\n",
      "pymnt_plan                    42535 non-null object\n",
      "purpose                       42535 non-null object\n",
      "title                         42522 non-null object\n",
      "zip_code                      42535 non-null object\n",
      "addr_state                    42535 non-null object\n",
      "dti                           42535 non-null float64\n",
      "delinq_2yrs                   42506 non-null float64\n",
      "earliest_cr_line              42506 non-null object\n",
      "inq_last_6mths                42506 non-null float64\n",
      "open_acc                      42506 non-null float64\n",
      "pub_rec                       42506 non-null float64\n",
      "revol_bal                     42535 non-null float64\n",
      "revol_util                    42445 non-null object\n",
      "total_acc                     42506 non-null float64\n",
      "initial_list_status           42535 non-null object\n",
      "out_prncp                     42535 non-null float64\n",
      "out_prncp_inv                 42535 non-null float64\n",
      "total_pymnt                   42535 non-null float64\n",
      "total_pymnt_inv               42535 non-null float64\n",
      "total_rec_prncp               42535 non-null float64\n",
      "total_rec_int                 42535 non-null float64\n",
      "total_rec_late_fee            42535 non-null float64\n",
      "recoveries                    42535 non-null float64\n",
      "collection_recovery_fee       42535 non-null float64\n",
      "last_pymnt_d                  42452 non-null object\n",
      "last_pymnt_amnt               42535 non-null float64\n",
      "last_credit_pull_d            42531 non-null object\n",
      "collections_12_mths_ex_med    42390 non-null float64\n",
      "policy_code                   42535 non-null float64\n",
      "application_type              42535 non-null object\n",
      "acc_now_delinq                42506 non-null float64\n",
      "chargeoff_within_12_mths      42390 non-null float64\n",
      "delinq_amnt                   42506 non-null float64\n",
      "pub_rec_bankruptcies          41170 non-null float64\n",
      "tax_liens                     42430 non-null float64\n",
      "dtypes: float64(30), object(22)\n",
      "memory usage: 17.2+ MB\n",
      "None\n",
      "\n",
      "Total number of features :  52\n"
     ]
    }
   ],
   "source": [
    "loans_2007 = pd.read_csv(r\"./databank/loans_2007.csv\", low_memory = False)\n",
    "\n",
    "# Removing rows with duplicate data\n",
    "loans_2007 = loans_2007.drop_duplicates()\n",
    "# Display first row of  the dataframe\n",
    "print(loans_2007.info())\n",
    "# Display dataframe size\n",
    "print(\"\\nTotal number of features : \",  loans_2007.shape[1])"
   ]
  },
  {
   "cell_type": "markdown",
   "metadata": {
    "collapsed": true
   },
   "source": [
    "### Cleaning dataframe by columns carrying irrelevant information"
   ]
  },
  {
   "cell_type": "code",
   "execution_count": 150,
   "metadata": {},
   "outputs": [
    {
     "data": {
      "text/plain": [
       "32"
      ]
     },
     "execution_count": 150,
     "metadata": {},
     "output_type": "execute_result"
    }
   ],
   "source": [
    "cols = [\"id\", \"member_id\", \"funded_amnt\", \"funded_amnt_inv\", \"grade\", \"sub_grade\", \"emp_title\",  \n",
    "        \"issue_d\", \"zip_code\", \"out_prncp\", \"out_prncp_inv\", \"total_pymnt\", \"total_pymnt_inv\", \n",
    "        \"total_rec_prncp\", \"total_rec_int\", \"total_rec_late_fee\", \"recoveries\", \"collection_recovery_fee\", \n",
    "        \"last_pymnt_d\", \"last_pymnt_amnt\"]\n",
    "loans_2007 = loans_2007.drop(cols, axis=1)\n",
    "loans_2007.shape[1]"
   ]
  },
  {
   "cell_type": "markdown",
   "metadata": {},
   "source": [
    "### Selecting Target Column  "
   ]
  },
  {
   "cell_type": "code",
   "execution_count": 151,
   "metadata": {},
   "outputs": [
    {
     "data": {
      "text/plain": [
       "Fully Paid                                             33136\n",
       "Charged Off                                             5634\n",
       "Does not meet the credit policy. Status:Fully Paid      1988\n",
       "Current                                                  961\n",
       "Does not meet the credit policy. Status:Charged Off      761\n",
       "Late (31-120 days)                                        24\n",
       "In Grace Period                                           20\n",
       "Late (16-30 days)                                          8\n",
       "Default                                                    3\n",
       "Name: loan_status, dtype: int64"
      ]
     },
     "execution_count": 151,
     "metadata": {},
     "output_type": "execute_result"
    }
   ],
   "source": [
    "# Selecting \"loan_status\" as a target column\n",
    "loans_2007[\"loan_status\"].value_counts()"
   ]
  },
  {
   "cell_type": "markdown",
   "metadata": {},
   "source": [
    "### Cleaning the target column"
   ]
  },
  {
   "cell_type": "code",
   "execution_count": 152,
   "metadata": {},
   "outputs": [
    {
     "data": {
      "text/plain": [
       "array([1, 0], dtype=int64)"
      ]
     },
     "execution_count": 152,
     "metadata": {},
     "output_type": "execute_result"
    }
   ],
   "source": [
    "# Only first two values above in \"Load_Status\" are found to be useful for our modeling.\n",
    "keep = [\"Fully Paid\", \"Charged Off\"]\n",
    "map_dict = {\"Fully Paid\": 1, \"Charged Off\": 0}\n",
    "\n",
    "loans_2007 = loans_2007[(loans_2007[\"loan_status\"] == keep[0]) | (loans_2007[\"loan_status\"] \\\n",
    "                                                                  == keep[1])]\n",
    "loans_2007[\"loan_status\"] = loans_2007[\"loan_status\"].map(map_dict)\n",
    "loans_2007[\"loan_status\"].unique()"
   ]
  },
  {
   "cell_type": "markdown",
   "metadata": {},
   "source": [
    "### Removing the columns with single value"
   ]
  },
  {
   "cell_type": "code",
   "execution_count": 153,
   "metadata": {},
   "outputs": [
    {
     "data": {
      "text/plain": [
       "Index(['loan_amnt', 'term', 'int_rate', 'installment', 'emp_length',\n",
       "       'home_ownership', 'annual_inc', 'verification_status', 'loan_status',\n",
       "       'purpose', 'title', 'addr_state', 'dti', 'delinq_2yrs',\n",
       "       'earliest_cr_line', 'inq_last_6mths', 'open_acc', 'pub_rec',\n",
       "       'revol_bal', 'revol_util', 'total_acc', 'last_credit_pull_d',\n",
       "       'pub_rec_bankruptcies'],\n",
       "      dtype='object')"
      ]
     },
     "execution_count": 153,
     "metadata": {},
     "output_type": "execute_result"
    }
   ],
   "source": [
    "# Since single valued columns carry no useful information for credibility evaluation purpose.\n",
    "drop_columns = []\n",
    "\n",
    "for col in loans_2007.columns:\n",
    "    current = loans_2007[col].dropna()\n",
    "    if len(current.unique()) == 1:\n",
    "        drop_columns.append(col)\n",
    "\n",
    "loans_2007 = loans_2007.drop(drop_columns, axis=1)\n",
    "loans_2007.columns"
   ]
  },
  {
   "cell_type": "markdown",
   "metadata": {},
   "source": [
    "### Checking the dataframe for null values"
   ]
  },
  {
   "cell_type": "code",
   "execution_count": 154,
   "metadata": {},
   "outputs": [
    {
     "data": {
      "text/plain": [
       "emp_length              1036\n",
       "pub_rec_bankruptcies     697\n",
       "revol_util                50\n",
       "title                     11\n",
       "last_credit_pull_d         2\n",
       "purpose                    0\n",
       "term                       0\n",
       "int_rate                   0\n",
       "installment                0\n",
       "home_ownership             0\n",
       "dtype: int64"
      ]
     },
     "execution_count": 154,
     "metadata": {},
     "output_type": "execute_result"
    }
   ],
   "source": [
    "# Display list of columns carrying null values (in descending order)\n",
    "null_counts = loans_2007.isnull().sum().sort_values(ascending=False)\n",
    "null_counts[0:10]"
   ]
  },
  {
   "cell_type": "markdown",
   "metadata": {},
   "source": [
    "### Verifying the null values proportion "
   ]
  },
  {
   "cell_type": "code",
   "execution_count": 155,
   "metadata": {},
   "outputs": [
    {
     "data": {
      "text/plain": [
       "emp_length              2.672169\n",
       "pub_rec_bankruptcies    1.797782\n",
       "revol_util              0.128966\n",
       "title                   0.028372\n",
       "last_credit_pull_d      0.005159\n",
       "dtype: float64"
      ]
     },
     "execution_count": 155,
     "metadata": {},
     "output_type": "execute_result"
    }
   ],
   "source": [
    "# Show columns with number of null values as percentage of total training examples\n",
    "# (in descending order) \n",
    "null_percent = (loans_2007.isnull().sum()/loans_2007.shape[0]).sort_values(ascending=False)*100\n",
    "null_percent[0:5]"
   ]
  },
  {
   "cell_type": "markdown",
   "metadata": {},
   "source": [
    "Consider clearning columns with more less 1% NULL value while removing the columns with above 1% NULL values."
   ]
  },
  {
   "cell_type": "markdown",
   "metadata": {},
   "source": [
    "### Further Cleaning/Removing the dataframe"
   ]
  },
  {
   "cell_type": "code",
   "execution_count": 156,
   "metadata": {},
   "outputs": [
    {
     "name": "stdout",
     "output_type": "stream",
     "text": [
      "Total NaN values in the dataframe:  1032\n",
      "False\n"
     ]
    }
   ],
   "source": [
    "loans_2007 = loans_2007.drop('pub_rec_bankruptcies', axis=1)\n",
    "loans_2007 = loans_2007.dropna(subset=['title', 'revol_util', 'last_credit_pull_d'],  \n",
    "                               axis=0, how='any')\n",
    "print(\"Total NaN values in the dataframe: \", loans_2007.isnull().sum().sum())\n",
    "print('pub_rec_bankruptcies' in loans_2007)"
   ]
  },
  {
   "cell_type": "markdown",
   "metadata": {},
   "source": [
    "### Review the columns that carry object type data"
   ]
  },
  {
   "cell_type": "code",
   "execution_count": 157,
   "metadata": {},
   "outputs": [
    {
     "data": {
      "text/plain": [
       "term                     36 months\n",
       "int_rate                    10.65%\n",
       "emp_length               10+ years\n",
       "home_ownership                RENT\n",
       "verification_status       Verified\n",
       "purpose                credit_card\n",
       "title                     Computer\n",
       "addr_state                      AZ\n",
       "earliest_cr_line          Jan-1985\n",
       "revol_util                   83.7%\n",
       "last_credit_pull_d        Jun-2016\n",
       "Name: 0, dtype: object"
      ]
     },
     "execution_count": 157,
     "metadata": {},
     "output_type": "execute_result"
    }
   ],
   "source": [
    "object_columns_df = loans_2007.select_dtypes(include=[\"object\"])\n",
    "object_columns_df.iloc[0]"
   ]
  },
  {
   "cell_type": "markdown",
   "metadata": {},
   "source": [
    "The following columns seem to carry categorical data that could be helpful for our regression analysis later:\n",
    "\n",
    "* term\n",
    "* emp_length\n",
    "* home_ownership\n",
    "* verification_status\n",
    "* purpose\n",
    "* title\n",
    "\n",
    "The above results show that the following columns carry type of information that we can convert into numerical type for further analysis:\n",
    "\n",
    "* int_rate\n",
    "* revol_util\n",
    "\n",
    "The remaining table seem to be not much useful and should be drop for our data frame. They are: \n",
    "\n",
    "* addr_state\n",
    "* earliest_cr_line\n",
    "* last_credit_pull_d"
   ]
  },
  {
   "cell_type": "markdown",
   "metadata": {},
   "source": [
    "### Verify the columns with categorical data "
   ]
  },
  {
   "cell_type": "code",
   "execution_count": 158,
   "metadata": {},
   "outputs": [
    {
     "name": "stdout",
     "output_type": "stream",
     "text": [
      "\n",
      "Unique Counts for term :\n",
      "  36 months    29040\n",
      " 60 months     9667\n",
      "Name: term, dtype: int64\n",
      "\n",
      "Unique Counts for emp_length :\n",
      " 10+ years    8545\n",
      "< 1 year     4513\n",
      "2 years      4303\n",
      "3 years      4022\n",
      "4 years      3353\n",
      "5 years      3202\n",
      "1 year       3176\n",
      "6 years      2177\n",
      "7 years      1714\n",
      "8 years      1442\n",
      "9 years      1228\n",
      "Name: emp_length, dtype: int64\n",
      "\n",
      "Unique Counts for home_ownership :\n",
      " RENT        18513\n",
      "MORTGAGE    17111\n",
      "OWN          2984\n",
      "OTHER          96\n",
      "NONE            3\n",
      "Name: home_ownership, dtype: int64\n",
      "\n",
      "Unique Counts for verification_status :\n",
      " Not Verified       16696\n",
      "Verified           12289\n",
      "Source Verified     9722\n",
      "Name: verification_status, dtype: int64\n",
      "\n",
      "Unique Counts for purpose :\n",
      " debt_consolidation    18130\n",
      "credit_card            5039\n",
      "other                  3864\n",
      "home_improvement       2897\n",
      "major_purchase         2154\n",
      "small_business         1762\n",
      "car                    1510\n",
      "wedding                 929\n",
      "medical                 680\n",
      "moving                  576\n",
      "vacation                375\n",
      "house                   369\n",
      "educational             320\n",
      "renewable_energy        102\n",
      "Name: purpose, dtype: int64\n",
      "\n",
      "Unique Counts for title :\n",
      " Debt Consolidation                                       2104\n",
      "Debt Consolidation Loan                                  1632\n",
      "Personal Loan                                             642\n",
      "Consolidation                                             494\n",
      "debt consolidation                                        485\n",
      "Credit Card Consolidation                                 353\n",
      "Home Improvement                                          346\n",
      "Debt consolidation                                        324\n",
      "Small Business Loan                                       310\n",
      "Credit Card Loan                                          305\n",
      "Personal                                                  302\n",
      "Consolidation Loan                                        251\n",
      "Home Improvement Loan                                     234\n",
      "personal loan                                             227\n",
      "personal                                                  211\n",
      "Loan                                                      208\n",
      "Wedding Loan                                              201\n",
      "Car Loan                                                  195\n",
      "consolidation                                             193\n",
      "Other Loan                                                181\n",
      "Credit Card Payoff                                        150\n",
      "Wedding                                                   149\n",
      "Credit Card Refinance                                     143\n",
      "Major Purchase Loan                                       139\n",
      "Consolidate                                               125\n",
      "Medical                                                   118\n",
      "Credit Card                                               115\n",
      "home improvement                                          107\n",
      "My Loan                                                    92\n",
      "Credit Cards                                               91\n",
      "                                                         ... \n",
      "money honey                                                 1\n",
      "Working capital business loan                               1\n",
      "Graduation/Travel Expenses                                  1\n",
      "Home Improvements                                           1\n",
      "Making ends meet                                            1\n",
      "amexloan                                                    1\n",
      "HudsonKK                                                    1\n",
      "New kitchen                                                 1\n",
      "Small business loan                                         1\n",
      "COSMETIC                                                    1\n",
      "Dept Consolidation Loan Success                             1\n",
      "Freash Start!                                               1\n",
      "Triathlete                                                  1\n",
      "Hearing Aids                                                1\n",
      "business plan debt consultation                             1\n",
      "Condo Renovation Loan                                       1\n",
      "pay off high interest debt                                  1\n",
      "CREATING FINACIAL INDEPENDENCE FOR MY CHILDREN AND ME       1\n",
      "Home sale buyout                                            1\n",
      "KDC_Loan123                                                 1\n",
      "Car loan and pay off my family                              1\n",
      "Credit Card Relieve                                         1\n",
      "Family Support                                              1\n",
      "Catrin's wish                                               1\n",
      "Furniture                                                   1\n",
      "Monty                                                       1\n",
      "Discover payoff                                             1\n",
      "New Job Relocate Debt Until IL Home Sell                    1\n",
      "missvi1                                                     1\n",
      "The consolidator                                            1\n",
      "Name: title, Length: 19331, dtype: int64\n"
     ]
    }
   ],
   "source": [
    "cols = ['term', 'emp_length', 'home_ownership', 'verification_status', 'purpose', 'title']\n",
    "\n",
    "for i in cols:\n",
    "    print(\"\\nUnique Counts for \" + i + \" :\\n\", object_columns_df[i].value_counts())"
   ]
  },
  {
   "cell_type": "markdown",
   "metadata": {},
   "source": [
    "It appears that column 'purpose' and 'title' carry overlapping information. However, considering the duplication of loan categories under the 'title' column, let's keep the 'purpose' column and drop the 'title' one.\n",
    "\n",
    "Column 'emp_length' carries multiple category data."
   ]
  },
  {
   "cell_type": "markdown",
   "metadata": {},
   "source": [
    "### Drop less useful columns with duplicate/overlapping data"
   ]
  },
  {
   "cell_type": "code",
   "execution_count": 159,
   "metadata": {},
   "outputs": [],
   "source": [
    "cols = ['addr_state', 'earliest_cr_line', 'last_credit_pull_d', 'title']\n",
    "loans_2007 = loans_2007.drop(cols, axis=1)"
   ]
  },
  {
   "cell_type": "markdown",
   "metadata": {},
   "source": [
    "### Assign data variables to columns"
   ]
  },
  {
   "cell_type": "code",
   "execution_count": 160,
   "metadata": {},
   "outputs": [
    {
     "data": {
      "text/plain": [
       "Index(['loan_amnt', 'int_rate', 'installment', 'emp_length', 'annual_inc',\n",
       "       'loan_status', 'dti', 'delinq_2yrs', 'inq_last_6mths', 'open_acc',\n",
       "       'pub_rec', 'revol_bal', 'revol_util', 'total_acc',\n",
       "       'home_ownership_MORTGAGE', 'home_ownership_NONE',\n",
       "       'home_ownership_OTHER', 'home_ownership_OWN', 'home_ownership_RENT',\n",
       "       'verification_status_Not Verified',\n",
       "       'verification_status_Source Verified', 'verification_status_Verified',\n",
       "       'purpose_car', 'purpose_credit_card', 'purpose_debt_consolidation',\n",
       "       'purpose_educational', 'purpose_home_improvement', 'purpose_house',\n",
       "       'purpose_major_purchase', 'purpose_medical', 'purpose_moving',\n",
       "       'purpose_other', 'purpose_renewable_energy', 'purpose_small_business',\n",
       "       'purpose_vacation', 'purpose_wedding', 'term_ 36 months',\n",
       "       'term_ 60 months'],\n",
       "      dtype='object')"
      ]
     },
     "execution_count": 160,
     "metadata": {},
     "output_type": "execute_result"
    }
   ],
   "source": [
    "cat_columns = ['home_ownership', 'verification_status', 'purpose', 'term']\n",
    "loans_2007_dummies = pd.get_dummies(loans_2007[cat_columns])\n",
    "loans_2007 = pd.concat([loans_2007, loans_2007_dummies], axis=1)\n",
    "\n",
    "# Removinng the original non-dummy columns \n",
    "loans_2007 = loans_2007.drop(cat_columns, axis=1)\n",
    "loans_2007.columns"
   ]
  },
  {
   "cell_type": "markdown",
   "metadata": {},
   "source": [
    "### Mapping column with multiple category data"
   ]
  },
  {
   "cell_type": "code",
   "execution_count": 161,
   "metadata": {},
   "outputs": [
    {
     "data": {
      "text/plain": [
       "array([ 0,  1,  2,  3,  4,  5,  6,  7,  8,  9, 10], dtype=int64)"
      ]
     },
     "execution_count": 161,
     "metadata": {},
     "output_type": "execute_result"
    }
   ],
   "source": [
    "mapping_dict = {\n",
    "    \"emp_length\": {\n",
    "        \"10+ years\": 10,\n",
    "        \"9 years\": 9,\n",
    "        \"8 years\": 8,\n",
    "        \"7 years\": 7,\n",
    "        \"6 years\": 6,\n",
    "        \"5 years\": 5,\n",
    "        \"4 years\": 4,\n",
    "        \"3 years\": 3,\n",
    "        \"2 years\": 2,\n",
    "        \"1 year\": 1,\n",
    "        \"< 1 year\": 0,\n",
    "        np.nan: 0\n",
    "    }\n",
    "}\n",
    "\n",
    "loans_2007 = loans_2007.replace(mapping_dict)\n",
    "np.sort(loans_2007['emp_length'].unique().astype('int64'))"
   ]
  },
  {
   "cell_type": "markdown",
   "metadata": {},
   "source": [
    "### Convert Columns String type Numeric Data to Real Numbers"
   ]
  },
  {
   "cell_type": "code",
   "execution_count": 162,
   "metadata": {},
   "outputs": [],
   "source": [
    "loans_2007['int_rate'] = loans_2007['int_rate'].str.rstrip('%').astype('float')\n",
    "loans_2007['revol_util'] = loans_2007['revol_util'].str.rstrip('%').astype('float')"
   ]
  },
  {
   "cell_type": "markdown",
   "metadata": {},
   "source": [
    "### Preserving completely cleansed dataframe in .csv format"
   ]
  },
  {
   "cell_type": "code",
   "execution_count": 163,
   "metadata": {},
   "outputs": [
    {
     "name": "stdout",
     "output_type": "stream",
     "text": [
      "<class 'pandas.core.frame.DataFrame'>\n",
      "Int64Index: 38707 entries, 0 to 39785\n",
      "Data columns (total 38 columns):\n",
      "loan_amnt                              38707 non-null float64\n",
      "int_rate                               38707 non-null float64\n",
      "installment                            38707 non-null float64\n",
      "emp_length                             38707 non-null int64\n",
      "annual_inc                             38707 non-null float64\n",
      "loan_status                            38707 non-null int64\n",
      "dti                                    38707 non-null float64\n",
      "delinq_2yrs                            38707 non-null float64\n",
      "inq_last_6mths                         38707 non-null float64\n",
      "open_acc                               38707 non-null float64\n",
      "pub_rec                                38707 non-null float64\n",
      "revol_bal                              38707 non-null float64\n",
      "revol_util                             38707 non-null float64\n",
      "total_acc                              38707 non-null float64\n",
      "home_ownership_MORTGAGE                38707 non-null uint8\n",
      "home_ownership_NONE                    38707 non-null uint8\n",
      "home_ownership_OTHER                   38707 non-null uint8\n",
      "home_ownership_OWN                     38707 non-null uint8\n",
      "home_ownership_RENT                    38707 non-null uint8\n",
      "verification_status_Not Verified       38707 non-null uint8\n",
      "verification_status_Source Verified    38707 non-null uint8\n",
      "verification_status_Verified           38707 non-null uint8\n",
      "purpose_car                            38707 non-null uint8\n",
      "purpose_credit_card                    38707 non-null uint8\n",
      "purpose_debt_consolidation             38707 non-null uint8\n",
      "purpose_educational                    38707 non-null uint8\n",
      "purpose_home_improvement               38707 non-null uint8\n",
      "purpose_house                          38707 non-null uint8\n",
      "purpose_major_purchase                 38707 non-null uint8\n",
      "purpose_medical                        38707 non-null uint8\n",
      "purpose_moving                         38707 non-null uint8\n",
      "purpose_other                          38707 non-null uint8\n",
      "purpose_renewable_energy               38707 non-null uint8\n",
      "purpose_small_business                 38707 non-null uint8\n",
      "purpose_vacation                       38707 non-null uint8\n",
      "purpose_wedding                        38707 non-null uint8\n",
      "term_ 36 months                        38707 non-null uint8\n",
      "term_ 60 months                        38707 non-null uint8\n",
      "dtypes: float64(12), int64(2), uint8(24)\n",
      "memory usage: 5.3 MB\n"
     ]
    }
   ],
   "source": [
    "loans_2007.to_csv(\"cleaned_loans_2007.csv\", index=False)\n",
    "loans_2007.info()"
   ]
  },
  {
   "cell_type": "markdown",
   "metadata": {},
   "source": [
    "### Finalizing the feature columns"
   ]
  },
  {
   "cell_type": "code",
   "execution_count": 164,
   "metadata": {},
   "outputs": [],
   "source": [
    "features = loans_2007.columns.values"
   ]
  },
  {
   "cell_type": "markdown",
   "metadata": {},
   "source": [
    "### Evaluating the data skewness"
   ]
  },
  {
   "cell_type": "code",
   "execution_count": 165,
   "metadata": {
    "scrolled": true
   },
   "outputs": [
    {
     "name": "stdout",
     "output_type": "stream",
     "text": [
      "1    33092\n",
      "0     5615\n",
      "Name: loan_status, dtype: int64\n",
      "The binary data ratio = 1 : 5.893499554764025\n"
     ]
    },
    {
     "data": {
      "text/plain": [
       "<matplotlib.axes._subplots.AxesSubplot at 0xce180b8>"
      ]
     },
     "execution_count": 165,
     "metadata": {},
     "output_type": "execute_result"
    },
    {
     "data": {
      "image/png": "[encoded data removed]",
      "text/plain": [
       "<matplotlib.figure.Figure at 0xce18240>"
      ]
     },
     "metadata": {},
     "output_type": "display_data"
    }
   ],
   "source": [
    "target_vals = loans_2007[\"loan_status\"].value_counts()\n",
    "print(target_vals)\n",
    "\n",
    "print(\"The binary data ratio = 1 :\", target_vals[1] / target_vals[0])\n",
    "sns.countplot(x=\"loan_status\", data=loans_2007)"
   ]
  },
  {
   "cell_type": "raw",
   "metadata": {},
   "source": [
    "This clearly indicates that our data is skewed. \n",
    "\n",
    "Let's consider a logistic regression model that predict \"1\" as loan would be pay-off on time and \"0\" as loan would not be pay-off on time.\n",
    "\n",
    "Considering the conservative investors approach:\n",
    "\n",
    "* We must emphasize an algorithm that can avoid predicting \"False Positive\" which can suggest them any risky investment as a safe option. This may, otherwise, cause severe business losses.\n",
    "\n",
    "* Similarly, it is acceptable that the algorithm is little lenient with predicting \"False Negative\" so that some safe investments could end up with wrong rejections. This may cause slip of some safe business opportunity."
   ]
  },
  {
   "cell_type": "markdown",
   "metadata": {},
   "source": [
    "### Develop Logistic Regression Model and Fit Verification"
   ]
  },
  {
   "cell_type": "code",
   "execution_count": 166,
   "metadata": {},
   "outputs": [
    {
     "data": {
      "text/plain": [
       "0.1331869267536494"
      ]
     },
     "execution_count": 166,
     "metadata": {},
     "output_type": "execute_result"
    }
   ],
   "source": [
    "# split train/test/cv as 60/20/20\n",
    "train_set = loans_2007.iloc[:23224]\n",
    "test_set = loans_2007.iloc[23225:30966]\n",
    "cross_val = loans_2007.iloc[30967:]\n",
    "\n",
    "# Find the logistic regression model using sklearn\n",
    "logistic_model = LogisticRegression()\n",
    "logistic_model.fit(train_set[features], train_set[\"loan_status\"])\n",
    "predictions_test = logistic_model.predict(test_set[features])\n",
    "mse_vals_test = mean_squared_error(predictions_test, test_set[\"loan_status\"])\n",
    "\n",
    "mse_vals_test"
   ]
  },
  {
   "cell_type": "markdown",
   "metadata": {},
   "source": [
    "### Verifying the Logistic Reg Model over CV Set"
   ]
  },
  {
   "cell_type": "code",
   "execution_count": 167,
   "metadata": {},
   "outputs": [
    {
     "data": {
      "text/plain": [
       "0.13217054263565892"
      ]
     },
     "execution_count": 167,
     "metadata": {},
     "output_type": "execute_result"
    }
   ],
   "source": [
    "# Find the MSE for CV\n",
    "\n",
    "logistic_model = LogisticRegression()\n",
    "logistic_model.fit(train_set[features], train_set[\"loan_status\"])\n",
    "predictions_cv = logistic_model.predict(cross_val[features])\n",
    "mse_vals_cv = mean_squared_error(predictions_cv, cross_val[\"loan_status\"])\n",
    "\n",
    "mse_vals_cv"
   ]
  },
  {
   "cell_type": "markdown",
   "metadata": {},
   "source": [
    "### Checking the Model Generalization using Another Classifier"
   ]
  },
  {
   "cell_type": "code",
   "execution_count": 168,
   "metadata": {},
   "outputs": [
    {
     "data": {
      "text/plain": [
       "0.14573591340067688"
      ]
     },
     "execution_count": 168,
     "metadata": {},
     "output_type": "execute_result"
    }
   ],
   "source": [
    "# Check for model generalization using scikit-learn package and carry out K-Fold \n",
    "# Cross Validation\n",
    "\n",
    "logistic_model = LogisticRegression()\n",
    "predictions_tot = pd.Series(cross_val_predict(logistic_model, X=loans_2007[features], \n",
    "                                              y=loans_2007[\"loan_status\"], cv=11))\n",
    "mse_vals_tot = mean_squared_error(predictions_tot, loans_2007[\"loan_status\"])\n",
    "\n",
    "mse_vals_tot"
   ]
  },
  {
   "cell_type": "markdown",
   "metadata": {},
   "source": [
    "The error results for model predictibility over test set and cross-validation set using two different classifier. This shows a better model generalization for predictibility over outside data."
   ]
  },
  {
   "cell_type": "markdown",
   "metadata": {},
   "source": [
    "### Check Prediction Integrity using Evaluation Matrix"
   ]
  },
  {
   "cell_type": "code",
   "execution_count": 169,
   "metadata": {},
   "outputs": [
    {
     "name": "stdout",
     "output_type": "stream",
     "text": [
      "Precision over Test Set: 0.8683084899546338\n",
      "Recall over Test Set: 0.9977658623771224\n",
      "Accuracy over Test Set: 0.8668130732463506\n",
      "FPR over Test Set: 0.9892891918208374\n",
      "TPR over Test Set: 0.9977658623771224\n",
      "F1 Score over Test Set: 0.9285466768313811\n",
      "             precision    recall  f1-score   support\n",
      "\n",
      "          0       0.42      0.01      0.02      1027\n",
      "          1       0.87      1.00      0.93      6714\n",
      "\n",
      "avg / total       0.81      0.87      0.81      7741\n",
      "\n"
     ]
    },
    {
     "data": {
      "image/png": "[encoded data removed]",
      "text/plain": [
       "<matplotlib.figure.Figure at 0xce110b8>"
      ]
     },
     "metadata": {},
     "output_type": "display_data"
    }
   ],
   "source": [
    "# Calc for TP/FP/TN/FN\n",
    "\n",
    "# For Logistic Reg Classifier over Test Set\n",
    "\n",
    "tp = len(predictions_test[(predictions_test == 1) & (test_set[\"loan_status\"] == 1)])\n",
    "tn = len(predictions_test[(predictions_test == 0) & (test_set[\"loan_status\"] == 0)])\n",
    "fp = len(predictions_test[(predictions_test == 1) & (test_set[\"loan_status\"] == 0)])\n",
    "fn = len(predictions_test[(predictions_test == 0) & (test_set[\"loan_status\"] == 1)])\n",
    "\n",
    "precision_test = tp / (tp + fp)\n",
    "recall_test = tp / (tp + fn)\n",
    "accuracy_test = (tp + tn) / len(test_set['loan_status'])\n",
    "fpr_test = fp / (fp + tn)\n",
    "tpr_test = tp / (tp + fn)\n",
    "F1_score_test = 2 * precision_test * recall_test / (precision_test + recall_test)\n",
    "\n",
    "print(\"Precision over Test Set:\", precision_test)\n",
    "print(\"Recall over Test Set:\", recall_test)\n",
    "print(\"Accuracy over Test Set:\", accuracy_test)\n",
    "print(\"FPR over Test Set:\", fpr_test)\n",
    "print(\"TPR over Test Set:\", tpr_test)\n",
    "print(\"F1 Score over Test Set:\", F1_score_test)\n",
    "\n",
    "# Verify the calc using sklearn function\n",
    "plot_confusion_matrix(confusion_matrix(test_set[\"loan_status\"], predictions_test))\n",
    "print(classification_report(test_set['loan_status'], predictions_test))"
   ]
  },
  {
   "cell_type": "code",
   "execution_count": 170,
   "metadata": {},
   "outputs": [
    {
     "name": "stdout",
     "output_type": "stream",
     "text": [
      "Precision over Cross Validation Set: 0.8683563946721842\n",
      "Recall over Cross Validation Set: 0.9992559523809523\n",
      "Accuracy over Cross Validation Set: 0.8678294573643411\n",
      "FPR over Cross Validation Set: 0.9980392156862745\n",
      "TPR over Cross Validation Set: 0.9992559523809523\n",
      "F1 Score over Cross Validation Set: 0.9292188472981389\n",
      "             precision    recall  f1-score   support\n",
      "\n",
      "          0       0.29      0.00      0.00      1020\n",
      "          1       0.87      1.00      0.93      6720\n",
      "\n",
      "avg / total       0.79      0.87      0.81      7740\n",
      "\n"
     ]
    },
    {
     "data": {
      "image/png": "[encoded data removed]",
      "text/plain": [
       "<matplotlib.figure.Figure at 0xed8b588>"
      ]
     },
     "metadata": {},
     "output_type": "display_data"
    }
   ],
   "source": [
    "# Calc for TP/FP/TN/FN\n",
    "\n",
    "# For Logistic Reg Classifier over Cross Validation Set\n",
    "\n",
    "tp = len(predictions_cv[(predictions_cv == 1) & (cross_val[\"loan_status\"] == 1)])\n",
    "tn = len(predictions_cv[(predictions_cv == 0) & (cross_val[\"loan_status\"] == 0)])\n",
    "fp = len(predictions_cv[(predictions_cv == 1) & (cross_val[\"loan_status\"] == 0)])\n",
    "fn = len(predictions_cv[(predictions_cv == 0) & (cross_val[\"loan_status\"] == 1)])\n",
    "\n",
    "precision_cv = tp / (tp + fp)\n",
    "recall_cv = tp / (tp + fn)\n",
    "accuracy_cv = (tp + tn) / len(cross_val['loan_status'])\n",
    "fpr_cv = fp / (fp + tn)\n",
    "tpr_cv = tp / (tp + fn)\n",
    "F1_score_cv = 2 * precision_cv * recall_cv / (precision_cv + recall_cv)\n",
    "\n",
    "print(\"Precision over Cross Validation Set:\", precision_cv)\n",
    "print(\"Recall over Cross Validation Set:\", recall_cv)\n",
    "print(\"Accuracy over Cross Validation Set:\", accuracy_cv)\n",
    "print(\"FPR over Cross Validation Set:\", fpr_cv)\n",
    "print(\"TPR over Cross Validation Set:\", tpr_cv)\n",
    "print(\"F1 Score over Cross Validation Set:\", F1_score_cv)\n",
    "\n",
    "# Verify the calc using sklearn function\n",
    "plot_confusion_matrix(confusion_matrix(cross_val[\"loan_status\"], predictions_cv))\n",
    "print(classification_report(cross_val['loan_status'], predictions_cv))"
   ]
  },
  {
   "cell_type": "code",
   "execution_count": 171,
   "metadata": {},
   "outputs": [
    {
     "name": "stdout",
     "output_type": "stream",
     "text": [
      "Precision by K-Fold Classify: 0.8556253660614451\n",
      "Recall by K-Fold Classify: 0.9982295937383526\n",
      "Accuracy by K-Fold Classify: 0.8306766217996745\n",
      "FPR by K-Fold Classify: 0.9974250505793636\n",
      "TPR by K-Fold Classify: 0.9982295937383526\n",
      "F1 Score by K-Fold Classify: 0.9214427019123255\n",
      "             precision    recall  f1-score   support\n",
      "\n",
      "          0       0.32      0.00      0.01      5615\n",
      "          1       0.86      1.00      0.92     33092\n",
      "\n",
      "avg / total       0.78      0.85      0.79     38707\n",
      "\n"
     ]
    },
    {
     "data": {
      "image/png": "[encoded data removed]",
      "text/plain": [
       "<matplotlib.figure.Figure at 0x12fa5630>"
      ]
     },
     "metadata": {},
     "output_type": "display_data"
    }
   ],
   "source": [
    "# Calc for TP/FP/TN/FN\n",
    "\n",
    "# For K-Fold Cross Validation Classifier over entire data set\n",
    "\n",
    "tp = len(predictions_tot[(predictions_tot == 1) & (loans_2007[\"loan_status\"] == 1)])\n",
    "tn = len(predictions_tot[(predictions_tot == 0) & (loans_2007[\"loan_status\"] == 0)])\n",
    "fp = len(predictions_tot[(predictions_tot == 1) & (loans_2007[\"loan_status\"] == 0)])\n",
    "fn = len(predictions_tot[(predictions_tot == 0) & (loans_2007[\"loan_status\"] == 1)])\n",
    "\n",
    "precision_tot = tp / (tp + fp)\n",
    "recall_tot = tp / (tp + fn)\n",
    "accuracy_tot = (tp + tn) / len(loans_2007['loan_status'])\n",
    "fpr_tot = fp / (fp + tn)\n",
    "tpr_tot = tp / (tp + fn)\n",
    "F1_score_tot = 2 * precision_tot * recall_tot / (precision_tot + recall_tot)\n",
    "\n",
    "print(\"Precision by K-Fold Classify:\", precision_tot)\n",
    "print(\"Recall by K-Fold Classify:\", recall_tot)\n",
    "print(\"Accuracy by K-Fold Classify:\", accuracy_tot)\n",
    "print(\"FPR by K-Fold Classify:\", fpr_tot)\n",
    "print(\"TPR by K-Fold Classify:\", tpr_tot)\n",
    "print(\"F1 Score by K-Fold Classify:\", F1_score_tot)\n",
    "\n",
    "# Verify the calc using sklearn function\n",
    "plot_confusion_matrix(confusion_matrix(loans_2007[\"loan_status\"], predictions_tot))\n",
    "print(classification_report(loans_2007['loan_status'], predictions_tot))"
   ]
  },
  {
   "cell_type": "markdown",
   "metadata": {},
   "source": [
    "### Results"
   ]
  },
  {
   "cell_type": "code",
   "execution_count": 172,
   "metadata": {},
   "outputs": [
    {
     "data": {
      "text/html": [
       "<div>\n",
       "<style scoped>\n",
       "    .dataframe tbody tr th:only-of-type {\n",
       "        vertical-align: middle;\n",
       "    }\n",
       "\n",
       "    .dataframe tbody tr th {\n",
       "        vertical-align: top;\n",
       "    }\n",
       "\n",
       "    .dataframe thead th {\n",
       "        text-align: right;\n",
       "    }\n",
       "</style>\n",
       "<table border=\"1\" class=\"dataframe\">\n",
       "  <thead>\n",
       "    <tr style=\"text-align: right;\">\n",
       "      <th></th>\n",
       "      <th>Test Set</th>\n",
       "      <th>Cross Validation Set</th>\n",
       "      <th>K-Fold Classify</th>\n",
       "    </tr>\n",
       "  </thead>\n",
       "  <tbody>\n",
       "    <tr>\n",
       "      <th>precision</th>\n",
       "      <td>0.868308</td>\n",
       "      <td>0.868356</td>\n",
       "      <td>0.855625</td>\n",
       "    </tr>\n",
       "    <tr>\n",
       "      <th>recall</th>\n",
       "      <td>0.997766</td>\n",
       "      <td>0.999256</td>\n",
       "      <td>0.998230</td>\n",
       "    </tr>\n",
       "    <tr>\n",
       "      <th>accuracy</th>\n",
       "      <td>0.866813</td>\n",
       "      <td>0.867829</td>\n",
       "      <td>0.830677</td>\n",
       "    </tr>\n",
       "    <tr>\n",
       "      <th>fpr</th>\n",
       "      <td>0.989289</td>\n",
       "      <td>0.998039</td>\n",
       "      <td>0.997425</td>\n",
       "    </tr>\n",
       "    <tr>\n",
       "      <th>tpr</th>\n",
       "      <td>0.997766</td>\n",
       "      <td>0.999256</td>\n",
       "      <td>0.998230</td>\n",
       "    </tr>\n",
       "    <tr>\n",
       "      <th>F1_score</th>\n",
       "      <td>0.928547</td>\n",
       "      <td>0.929219</td>\n",
       "      <td>0.921443</td>\n",
       "    </tr>\n",
       "    <tr>\n",
       "      <th>MSE</th>\n",
       "      <td>0.133187</td>\n",
       "      <td>0.132171</td>\n",
       "      <td>0.145736</td>\n",
       "    </tr>\n",
       "  </tbody>\n",
       "</table>\n",
       "</div>"
      ],
      "text/plain": [
       "           Test Set  Cross Validation Set  K-Fold Classify\n",
       "precision  0.868308              0.868356         0.855625\n",
       "recall     0.997766              0.999256         0.998230\n",
       "accuracy   0.866813              0.867829         0.830677\n",
       "fpr        0.989289              0.998039         0.997425\n",
       "tpr        0.997766              0.999256         0.998230\n",
       "F1_score   0.928547              0.929219         0.921443\n",
       "MSE        0.133187              0.132171         0.145736"
      ]
     },
     "execution_count": 172,
     "metadata": {},
     "output_type": "execute_result"
    }
   ],
   "source": [
    "output_cols = [\"Test Set\", \"Cross Validation Set\", \"K-Fold Classify\"]\n",
    "output_index = [\"precision\", \"recall\", \"accuracy\", \"fpr\", \"tpr\", \"F1_score\", \"MSE\"]\n",
    "output = pd.DataFrame(index = output_index, columns = output_cols)\n",
    "\n",
    "output['Test Set'] = [precision_test, recall_test, accuracy_test, fpr_test, tpr_test, \n",
    "                      F1_score_test, mse_vals_test]\n",
    "output['Cross Validation Set'] = [precision_cv, recall_cv, accuracy_cv, fpr_cv, tpr_cv, \n",
    "                                  F1_score_cv, mse_vals_cv]\n",
    "output['K-Fold Classify'] = [precision_tot, recall_tot, accuracy_tot, fpr_tot, tpr_tot, \n",
    "                             F1_score_tot, mse_vals_tot]\n",
    "output"
   ]
  },
  {
   "cell_type": "markdown",
   "metadata": {},
   "source": [
    "### Results Review"
   ]
  },
  {
   "cell_type": "raw",
   "metadata": {},
   "source": [
    "* The precision of 0.5 indicates that only 50% of total positives as predicted by the model are indeed \"True Positive\". In other words, the algorithm fails to predict \"True Negative\" more than half times (50%) and predict \"False Positive\" instead. Only 50% of the positively predicted cases are really genuine where the loans would be pay off on time. This pose highly risky predictive environment to take critical investment decisions. \n",
    "\n",
    "* The prediction algorithm seems to be biased towards the positive outcome. This also gets reflected in the high recall value. This could not gain confident to make business/investment decision by the conservative investors.\n",
    "\n",
    "* High value of FPR shows the positive bias of the predictive algorithm. The 99% value of FPR is indicative of high volume of \"False Positive\". This pose high threat to make right selection of loan funding decision that can be pay off on time."
   ]
  },
  {
   "cell_type": "markdown",
   "metadata": {},
   "source": [
    "### Revise Model"
   ]
  },
  {
   "cell_type": "code",
   "execution_count": 173,
   "metadata": {},
   "outputs": [
    {
     "data": {
      "text/plain": [
       "0.0"
      ]
     },
     "execution_count": 173,
     "metadata": {},
     "output_type": "execute_result"
    }
   ],
   "source": [
    "# Need to reduce \"False Positive\" to improve predictive reliability\n",
    "# To enhance conservative predictive outcome, let's set-up penalty for wrongly label \"1\"\n",
    "penalty = {0:6, 1:1}\n",
    "# Set up Logistic regression model\n",
    "logistic_model = LogisticRegression(class_weight = penalty)\n",
    "logistic_model.fit(train_set[features], train_set[\"loan_status\"])\n",
    "predictions_test_rev = logistic_model.predict(test_set[features])\n",
    "mse_vals_test_rev = mean_squared_error(predictions_test_rev, test_set[\"loan_status\"])\n",
    "\n",
    "mse_vals_test_rev"
   ]
  },
  {
   "cell_type": "markdown",
   "metadata": {},
   "source": [
    "### Re-verify the Logistic Reg Revised Model"
   ]
  },
  {
   "cell_type": "code",
   "execution_count": 174,
   "metadata": {},
   "outputs": [
    {
     "data": {
      "text/plain": [
       "0.0"
      ]
     },
     "execution_count": 174,
     "metadata": {},
     "output_type": "execute_result"
    }
   ],
   "source": [
    "# Find the MSE for CV\n",
    "\n",
    "logistic_model.fit(train_set[features], train_set[\"loan_status\"])\n",
    "predictions_cv_rev = logistic_model.predict(cross_val[features])\n",
    "mse_vals_cv_rev = mean_squared_error(predictions_cv_rev, cross_val[\"loan_status\"])\n",
    "\n",
    "mse_vals_cv_rev"
   ]
  },
  {
   "cell_type": "markdown",
   "metadata": {},
   "source": [
    "### Re-Check (Manually) the Revised Model Generalization using Class Weights Classifier"
   ]
  },
  {
   "cell_type": "raw",
   "metadata": {},
   "source": [
    "In order to accomplish splitting the skewed data appropriately into partitions, every class should be applied with different weight so that all partitions are eventually left out for testing. We have data skewed in the order of 1:5.89. It should be noted that RandomForestClassifier suites to allow for class weighting.\n",
    "\n",
    "We should manage the class weights manually to find a better balance between the \"False Positives\" and \"False Negatives\". The F1 score is a good indicator of tradeoff between the precision and recall. "
   ]
  },
  {
   "cell_type": "code",
   "execution_count": 175,
   "metadata": {
    "scrolled": true
   },
   "outputs": [
    {
     "name": "stdout",
     "output_type": "stream",
     "text": [
      "Best parameters : {'class_weight': {0: 0.7605263157894736, 1: 0.2394736842105264}}\n",
      "MSE for GridSearchCV Cross-Validation Check = 0.0\n"
     ]
    },
    {
     "data": {
      "image/png": "[encoded data removed]",
      "text/plain": [
       "<matplotlib.figure.Figure at 0xcdf43c8>"
      ]
     },
     "metadata": {},
     "output_type": "display_data"
    }
   ],
   "source": [
    "# Check for model generalization using scikit-learn GridSearchCV classifier \n",
    "\n",
    "wts = np.linspace(0.05, 0.95, 20)\n",
    "\n",
    "# Initialize the classifier (presumming 3-Folds will provide a reasonable balance between\n",
    "# the accuracy and computation time)\n",
    "grdcv = GridSearchCV(\n",
    "    estimator=LogisticRegression(),\n",
    "    param_grid={\n",
    "                'class_weight': [{0: x, 1: 1.0-x} for x in wts]\n",
    "                },\n",
    "    scoring='f1',\n",
    "    cv=3)\n",
    "\n",
    "grd_rslt = grdcv.fit(loans_2007[features], loans_2007['loan_status'])\n",
    "print(\"Best parameters : %s\" % grd_rslt.best_params_)\n",
    "\n",
    "# Plot the weights vs F1_score\n",
    "df_wt = pd.DataFrame({ 'score': grd_rslt.cv_results_['mean_test_score'],\n",
    "                       'weight': wts })\n",
    "df_wt.plot(x='weight')\n",
    "\n",
    "# Initializing the Logistic Regression Cross Validation\n",
    "logistic_model_rev = LogisticRegression(**grd_rslt.best_params_)\n",
    "logistic_model_rev.fit(train_set[features], train_set['loan_status'])\n",
    "predictions_tot_rev = logistic_model_rev.predict(cross_val[features])\n",
    "mse_vals_tot_rev = mean_squared_error(predictions_tot_rev, cross_val[\"loan_status\"])\n",
    "\n",
    "print(\"MSE for GridSearchCV Cross-Validation Check =\", mse_vals_tot_rev)"
   ]
  },
  {
   "cell_type": "markdown",
   "metadata": {},
   "source": [
    "### Re-Check Prediction Integrity using Evaluation Matrix"
   ]
  },
  {
   "cell_type": "code",
   "execution_count": 176,
   "metadata": {
    "scrolled": true
   },
   "outputs": [
    {
     "name": "stdout",
     "output_type": "stream",
     "text": [
      "Precision over Test Set: 1.0\n",
      "Recall over Test Set: 1.0\n",
      "Accuracy over Test Set: 1.0\n",
      "FPR over Test Set: 0.0\n",
      "TPR over Test Set: 1.0\n",
      "F1 Score over Test Set: 1.0\n",
      "             precision    recall  f1-score   support\n",
      "\n",
      "          0       1.00      1.00      1.00      1027\n",
      "          1       1.00      1.00      1.00      6714\n",
      "\n",
      "avg / total       1.00      1.00      1.00      7741\n",
      "\n"
     ]
    },
    {
     "data": {
      "image/png": "[encoded data removed]",
      "text/plain": [
       "<matplotlib.figure.Figure at 0xfef58d0>"
      ]
     },
     "metadata": {},
     "output_type": "display_data"
    }
   ],
   "source": [
    "# Calc for TP/FP/TN/FN\n",
    "# For Logistic Reg Classifier over Test Set\n",
    "\n",
    "tp = len(predictions_test_rev[(predictions_test_rev == 1) & (test_set[\"loan_status\"] == 1)])\n",
    "tn = len(predictions_test_rev[(predictions_test_rev == 0) & (test_set[\"loan_status\"] == 0)])\n",
    "fp = len(predictions_test_rev[(predictions_test_rev == 1) & (test_set[\"loan_status\"] == 0)])\n",
    "fn = len(predictions_test_rev[(predictions_test_rev == 0) & (test_set[\"loan_status\"] == 1)])\n",
    "\n",
    "precision_test_rev = tp / (tp + fp)\n",
    "recall_test_rev = tp / (tp + fn)\n",
    "accuracy_test_rev = (tp + tn) / len(test_set['loan_status'])\n",
    "fpr_test_rev = fp / (fp + tn)\n",
    "tpr_test_rev = tp / (tp + fn)\n",
    "F1_score_test_rev = 2 * precision_test_rev * recall_test_rev / (precision_test_rev + \n",
    "                                                                recall_test_rev)\n",
    "\n",
    "print(\"Precision over Test Set:\", precision_test_rev)\n",
    "print(\"Recall over Test Set:\", recall_test_rev)\n",
    "print(\"Accuracy over Test Set:\", accuracy_test_rev)\n",
    "print(\"FPR over Test Set:\", fpr_test_rev)\n",
    "print(\"TPR over Test Set:\", tpr_test_rev)\n",
    "print(\"F1 Score over Test Set:\", F1_score_test_rev)\n",
    "\n",
    "# Verify the calc using sklearn function\n",
    "plot_confusion_matrix(confusion_matrix(test_set[\"loan_status\"], predictions_test_rev))\n",
    "print(classification_report(test_set['loan_status'], predictions_test_rev))"
   ]
  },
  {
   "cell_type": "code",
   "execution_count": 177,
   "metadata": {
    "scrolled": true
   },
   "outputs": [
    {
     "name": "stdout",
     "output_type": "stream",
     "text": [
      "Precision over Cross Validation Set: 1.0\n",
      "Recall over Cross Validation Set: 1.0\n",
      "Accuracy over Cross Validation Set: 1.0\n",
      "FPR over Cross Validation Set: 0.0\n",
      "TPR over Cross Validation Set: 1.0\n",
      "F1 Score over Cross Validation Set: 1.0\n",
      "             precision    recall  f1-score   support\n",
      "\n",
      "          0       1.00      1.00      1.00      1020\n",
      "          1       1.00      1.00      1.00      6720\n",
      "\n",
      "avg / total       1.00      1.00      1.00      7740\n",
      "\n"
     ]
    },
    {
     "data": {
      "image/png": "[encoded data removed]",
      "text/plain": [
       "<matplotlib.figure.Figure at 0xd4ae898>"
      ]
     },
     "metadata": {},
     "output_type": "display_data"
    }
   ],
   "source": [
    "# Calc for TP/FP/TN/FN\n",
    "# For Logistic Reg Classifier over Cross Validation Set\n",
    "\n",
    "tp = len(predictions_cv_rev[(predictions_cv_rev == 1) & (cross_val[\"loan_status\"] == 1)])\n",
    "tn = len(predictions_cv_rev[(predictions_cv_rev == 0) & (cross_val[\"loan_status\"] == 0)])\n",
    "fp = len(predictions_cv_rev[(predictions_cv_rev == 1) & (cross_val[\"loan_status\"] == 0)])\n",
    "fn = len(predictions_cv_rev[(predictions_cv_rev == 0) & (cross_val[\"loan_status\"] == 1)])\n",
    "\n",
    "precision_cv_rev = tp / (tp + fp)\n",
    "recall_cv_rev = tp / (tp + fn)\n",
    "accuracy_cv_rev = (tp + tn) / len(cross_val['loan_status'])\n",
    "fpr_cv_rev = fp / (fp + tn)\n",
    "tpr_cv_rev = tp / (tp + fn)\n",
    "F1_score_cv_rev = 2 * precision_cv_rev * recall_cv_rev / (precision_cv_rev + recall_cv_rev)\n",
    "\n",
    "print(\"Precision over Cross Validation Set:\", precision_cv_rev)\n",
    "print(\"Recall over Cross Validation Set:\", recall_cv_rev)\n",
    "print(\"Accuracy over Cross Validation Set:\", accuracy_cv_rev)\n",
    "print(\"FPR over Cross Validation Set:\", fpr_cv_rev)\n",
    "print(\"TPR over Cross Validation Set:\", tpr_cv_rev)\n",
    "print(\"F1 Score over Cross Validation Set:\", F1_score_cv_rev)\n",
    "\n",
    "# Verify the calc using sklearn function\n",
    "plot_confusion_matrix(confusion_matrix(cross_val[\"loan_status\"], predictions_cv_rev))\n",
    "print(classification_report(cross_val['loan_status'], predictions_cv_rev))"
   ]
  },
  {
   "cell_type": "code",
   "execution_count": 178,
   "metadata": {
    "scrolled": true
   },
   "outputs": [
    {
     "name": "stdout",
     "output_type": "stream",
     "text": [
      "Precision by GridSearchCV Classifier: 1.0\n",
      "Recall by GridSearchCV Classifier: 1.0\n",
      "Accuracy by GridSearchCVClassifier: 1.0\n",
      "FPR by GridSearchCV Classifier: 0.0\n",
      "TPR by GridSearchCV Classifier: 1.0\n",
      "F1 Score by GridSearchCV Classifier: 1.0\n",
      "             precision    recall  f1-score   support\n",
      "\n",
      "          0       1.00      1.00      1.00      1020\n",
      "          1       1.00      1.00      1.00      6720\n",
      "\n",
      "avg / total       1.00      1.00      1.00      7740\n",
      "\n"
     ]
    },
    {
     "data": {
      "image/png": "[encoded data removed]",
      "text/plain": [
       "<matplotlib.figure.Figure at 0xffff358>"
      ]
     },
     "metadata": {},
     "output_type": "display_data"
    }
   ],
   "source": [
    "# Calc for TP/FP/TN/FN\n",
    "# For GridSearchCV Classifier with Logistic Reg over the cross validation data set\n",
    "\n",
    "tp = len(predictions_tot_rev[(predictions_tot_rev == 1) & (cross_val[\"loan_status\"] == 1)])\n",
    "tn = len(predictions_tot_rev[(predictions_tot_rev == 0) & (cross_val[\"loan_status\"] == 0)])\n",
    "fp = len(predictions_tot_rev[(predictions_tot_rev == 1) & (cross_val[\"loan_status\"] == 0)])\n",
    "fn = len(predictions_tot_rev[(predictions_tot_rev == 0) & (cross_val[\"loan_status\"] == 1)])\n",
    "\n",
    "precision_tot_rev = tp / (tp + fp)\n",
    "recall_tot_rev = tp / (tp + fn)\n",
    "accuracy_tot_rev = (tp + tn) / len(cross_val['loan_status'])\n",
    "fpr_tot_rev = fp / (fp + tn)\n",
    "tpr_tot_rev = tp / (tp + fn)\n",
    "F1_score_tot_rev = 2 * precision_tot_rev * recall_tot_rev / (precision_tot_rev + \n",
    "                                                             recall_tot_rev)\n",
    "\n",
    "print(\"Precision by GridSearchCV Classifier:\", precision_tot_rev)\n",
    "print(\"Recall by GridSearchCV Classifier:\", recall_tot_rev)\n",
    "print(\"Accuracy by GridSearchCVClassifier:\", accuracy_tot_rev)\n",
    "print(\"FPR by GridSearchCV Classifier:\", fpr_tot_rev)\n",
    "print(\"TPR by GridSearchCV Classifier:\", tpr_tot_rev)\n",
    "print(\"F1 Score by GridSearchCV Classifier:\", F1_score_tot_rev)\n",
    "\n",
    "# Verify the calc using sklearn function\n",
    "plot_confusion_matrix(confusion_matrix(cross_val[\"loan_status\"], predictions_tot_rev))\n",
    "print(classification_report(cross_val['loan_status'], predictions_tot_rev))"
   ]
  },
  {
   "cell_type": "markdown",
   "metadata": {},
   "source": [
    "### Revised Model Results Summary"
   ]
  },
  {
   "cell_type": "code",
   "execution_count": 179,
   "metadata": {},
   "outputs": [
    {
     "data": {
      "text/html": [
       "<div>\n",
       "<style scoped>\n",
       "    .dataframe tbody tr th:only-of-type {\n",
       "        vertical-align: middle;\n",
       "    }\n",
       "\n",
       "    .dataframe tbody tr th {\n",
       "        vertical-align: top;\n",
       "    }\n",
       "\n",
       "    .dataframe thead th {\n",
       "        text-align: right;\n",
       "    }\n",
       "</style>\n",
       "<table border=\"1\" class=\"dataframe\">\n",
       "  <thead>\n",
       "    <tr style=\"text-align: right;\">\n",
       "      <th></th>\n",
       "      <th>Test Set</th>\n",
       "      <th>Cross Validation Set</th>\n",
       "      <th>GridSearch CV</th>\n",
       "    </tr>\n",
       "  </thead>\n",
       "  <tbody>\n",
       "    <tr>\n",
       "      <th>precision</th>\n",
       "      <td>1.0</td>\n",
       "      <td>1.0</td>\n",
       "      <td>1.0</td>\n",
       "    </tr>\n",
       "    <tr>\n",
       "      <th>recall</th>\n",
       "      <td>1.0</td>\n",
       "      <td>1.0</td>\n",
       "      <td>1.0</td>\n",
       "    </tr>\n",
       "    <tr>\n",
       "      <th>accuracy</th>\n",
       "      <td>1.0</td>\n",
       "      <td>1.0</td>\n",
       "      <td>1.0</td>\n",
       "    </tr>\n",
       "    <tr>\n",
       "      <th>fpr</th>\n",
       "      <td>0.0</td>\n",
       "      <td>0.0</td>\n",
       "      <td>0.0</td>\n",
       "    </tr>\n",
       "    <tr>\n",
       "      <th>tpr</th>\n",
       "      <td>1.0</td>\n",
       "      <td>1.0</td>\n",
       "      <td>1.0</td>\n",
       "    </tr>\n",
       "    <tr>\n",
       "      <th>F1_score</th>\n",
       "      <td>1.0</td>\n",
       "      <td>1.0</td>\n",
       "      <td>1.0</td>\n",
       "    </tr>\n",
       "    <tr>\n",
       "      <th>MSE</th>\n",
       "      <td>0.0</td>\n",
       "      <td>0.0</td>\n",
       "      <td>0.0</td>\n",
       "    </tr>\n",
       "  </tbody>\n",
       "</table>\n",
       "</div>"
      ],
      "text/plain": [
       "           Test Set  Cross Validation Set  GridSearch CV\n",
       "precision       1.0                   1.0            1.0\n",
       "recall          1.0                   1.0            1.0\n",
       "accuracy        1.0                   1.0            1.0\n",
       "fpr             0.0                   0.0            0.0\n",
       "tpr             1.0                   1.0            1.0\n",
       "F1_score        1.0                   1.0            1.0\n",
       "MSE             0.0                   0.0            0.0"
      ]
     },
     "execution_count": 179,
     "metadata": {},
     "output_type": "execute_result"
    }
   ],
   "source": [
    "output_cols = [\"Test Set\", \"Cross Validation Set\", \"GridSearch CV\"]\n",
    "output_rev = pd.DataFrame(index = output_index, columns = output_cols)\n",
    "\n",
    "output_rev['Test Set'] = [precision_test_rev, recall_test_rev, accuracy_test_rev, fpr_test_rev, \n",
    "                          tpr_test_rev, F1_score_test_rev, mse_vals_test_rev]\n",
    "output_rev['Cross Validation Set'] = [precision_cv_rev, recall_cv_rev, accuracy_cv_rev, fpr_cv_rev, \n",
    "                                      tpr_cv_rev, F1_score_cv_rev, mse_vals_cv_rev]\n",
    "output_rev[\"GridSearch CV\"] = [precision_tot_rev, recall_tot_rev, accuracy_tot_rev, fpr_tot_rev, \n",
    "                               tpr_tot_rev, F1_score_tot_rev, mse_vals_tot_rev]\n",
    "output_rev"
   ]
  },
  {
   "cell_type": "markdown",
   "metadata": {},
   "source": [
    "### Conclusion"
   ]
  },
  {
   "cell_type": "raw",
   "metadata": {},
   "source": [
    "* The results above show generalization of the revised model over the unknown data set. \n",
    "\n",
    "* Precision value of 1.0 indicates that this model predicts ONLY actual positive examples as positive outcome.\n",
    "\n",
    "* Recall value of 1.0 is an indication that this model captures ALL positive examples correctly.\n",
    "\n",
    "* F1-Score is an indicative of perfect 'Precision' and 'Recall' scores.\n",
    "\n",
    "* The zero value of fpr confirms that the model is absolutely not predicting \"False Positive\". This confirm the reliability of the algorithm and its alignment with our need for conservative business proposition to avoid any risky investment option. The checks for model predictive behavior above assure this model would recommend only loan options that are safe and will be paid off on time.\n",
    "\n",
    "* The TPR value of 1.0 is an indicative that this model will show ALL of the safe loan opportunities that will be paid off on time. This will give an utmost confidence to the conservative investors and encourage them to treat any/all of the recommended business opportunity as risk free to do business. "
   ]
  }
 ],
 "metadata": {
  "kernelspec": {
   "display_name": "Python 3",
   "language": "python",
   "name": "python3"
  },
  "language_info": {
   "codemirror_mode": {
    "name": "ipython",
    "version": 3
   },
   "file_extension": ".py",
   "mimetype": "text/x-python",
   "name": "python",
   "nbconvert_exporter": "python",
   "pygments_lexer": "ipython3",
   "version": "3.6.4"
  }
 },
 "nbformat": 4,
 "nbformat_minor": 2
}
